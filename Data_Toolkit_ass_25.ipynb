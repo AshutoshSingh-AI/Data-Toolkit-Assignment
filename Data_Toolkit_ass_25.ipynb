{
  "nbformat": 4,
  "nbformat_minor": 0,
  "metadata": {
    "colab": {
      "provenance": []
    },
    "kernelspec": {
      "name": "python3",
      "display_name": "Python 3"
    },
    "language_info": {
      "name": "python"
    }
  },
  "cells": [
    {
      "cell_type": "markdown",
      "source": [
        "# **1.What is NumPy, and why is it widely used in Python?**\n",
        "\n",
        "Ans- NumPy (Numerical Python) is a powerful open-source Python library used for numerical and scientific computing. It provides a high-performance multidimensional array object, and tools for working with these arrays.\n",
        "\n",
        "\n",
        "# Why is NumPy Widely Used?\n",
        "\n",
        "**a.Fast Performance:**\n",
        "\n",
        "NumPy operations are implemented in C under the hood, making them much faster than native Python loops.\n",
        "\n",
        "**b.Multidimensional Arrays:**\n",
        "\n",
        "Supports 1D, 2D, 3D (and more) arrays. Ideal for mathematical, statistical, and scientific applications.\n",
        "\n",
        "**c.Convenient Array Operations:**\n",
        "\n",
        "Element-wise operations, broadcasting, reshaping, slicing, etc., are intuitive and efficient.\n",
        "\n",
        "**d.Mathematical Functions:**\n",
        "\n",
        "Includes a wide range of mathematical operations: sum(), mean(), std(), dot(), sin(), log(), etc.\n",
        "\n",
        "**e.Interoperability:**\n",
        "\n",
        "Works well with other libraries like Pandas, Matplotlib, Scikit-learn, and TensorFlow.\n",
        "\n",
        "**f.Memory Efficient:**\n",
        "\n",
        "Uses less memory than Python lists due to fixed-type arrays.\n",
        "\n",
        "Foundation for Data Science & Machine Learning:\n",
        "\n",
        "NumPy is the backbone of most Python-based data workflows and ML libraries.\n",
        "\n"
      ],
      "metadata": {
        "id": "X_aL0rKDuR5X"
      }
    },
    {
      "cell_type": "markdown",
      "source": [
        "# **2.How does broadcasting work in NumPy?**\n",
        "\n",
        "Ans- Broadcasting is a powerful feature in NumPy that allows arithmetic operations on arrays of different shapes and sizes, without explicitly replicating data.\n",
        "\n",
        "**Broadcasting Rules:**\n",
        "\n",
        "When operating on two arrays, NumPy compares their shapes element-wise, starting from the trailing dimensions:\n",
        "\n",
        "a.If the dimensions are equal, they are compatible.\n",
        "\n",
        "b.If one of the dimensions is 1, NumPy \"stretches\" it to match the other.\n",
        "\n",
        "c.If dimensions are not equal and neither is 1, broadcasting fails."
      ],
      "metadata": {
        "id": "Lid5EwhZvD2C"
      }
    },
    {
      "cell_type": "markdown",
      "source": [
        "# **3.What is a Pandas DataFrame?**\n",
        "\n",
        "Ans- A Pandas DataFrame is a two-dimensional, labeled, tabular data structure in Python, provided by the Pandas library. Think of it like an Excel spreadsheet or a SQL table, where:\n",
        "\n",
        "**.**Rows have indexes (like row numbers).\n",
        "\n",
        "**.**Columns have labels (like field names).\n",
        "\n",
        "**.**Each column can hold a different data type (integers, strings, floats, etc.).\n",
        "\n"
      ],
      "metadata": {
        "id": "iENkMz82wonl"
      }
    },
    {
      "cell_type": "markdown",
      "source": [
        "# **4.Explain the use of the groupby() method in Pandas?**\n",
        "\n",
        "\n",
        "Ans- The groupby() method in Pandas is used to split data into groups, apply a function, and combine results. It's a powerful tool for data analysis, especially for aggregating and summarizing large datasets.\n",
        "\n",
        "\n",
        "The groupby() method follows this pattern:\n",
        "\n",
        "1.Split the data into groups (based on column values).\n",
        "\n",
        "2.Apply a function to each group (like sum(), mean(), count()).\n",
        "\n",
        "3.Combine the results into a new DataFrame or Series.\n",
        "\n"
      ],
      "metadata": {
        "id": "vU8c9Q_mxBF9"
      }
    },
    {
      "cell_type": "markdown",
      "source": [
        "# **5.Why is Seaborn preferred for statistical visualizations?**\n",
        "\n",
        "Ans- Seaborn is a high-level Python data visualization library based on Matplotlib, and it is specifically designed for statistical plotting. It's widely preferred for its ability to create attractive, informative, and easy-to-read visualizations with minimal code.\n",
        "\n"
      ],
      "metadata": {
        "id": "0mU5qsWkxcRt"
      }
    },
    {
      "cell_type": "markdown",
      "source": [
        "# **6.What are the differences between NumPy arrays and Python lists?**\n",
        "\n",
        "\n",
        "Ans- NumPy arrays and Python lists are both used to store collections of data, but they differ significantly in terms of performance, functionality, and usage.\n",
        "\n",
        "A key difference is that NumPy arrays are more efficient and faster for numerical operations because they are implemented in C and use contiguous memory blocks, whereas Python lists are more flexible but slower and consume more memory since they store references to objects.\n",
        "\n",
        "NumPy arrays are homogeneous, meaning all elements must be of the same data type, which allows for vectorized operations—you can perform element-wise arithmetic without using loops.\n",
        "\n",
        "In contrast, Python lists are heterogeneous, allowing mixed data types but lacking built-in support for mathematical operations, requiring manual iteration instead.\n",
        "\n",
        "Additionally, NumPy provides a wide range of mathematical and statistical functions, broadcasting, reshaping, and multi-dimensional array support, features that standard Python lists do not natively support.\n",
        "\n",
        "Therefore, while Python lists are great for general-purpose storage, NumPy arrays are the preferred choice for scientific computing and data analysis due to their speed, functionality, and efficiency.\n"
      ],
      "metadata": {
        "id": "wpVkz58T0-Uz"
      }
    },
    {
      "cell_type": "markdown",
      "source": [
        "# **7.What is a heatmap, and when should it be used?**\n",
        "\n",
        "Ans- A heatmap is a data visualization technique that uses color gradients to represent the magnitude or intensity of values in a 2D matrix or grid. Each cell in the grid is color-coded according to its value, making it easy to identify patterns, trends, and correlations at a glance."
      ],
      "metadata": {
        "id": "VDt8qXbh3ifw"
      }
    },
    {
      "cell_type": "markdown",
      "source": [
        "# **8.What does the term “vectorized operation” mean in NumPy?**\n",
        "\n",
        "Ans- A vectorized operation in NumPy refers to performing operations on entire arrays (vectors, matrices, etc.) without using explicit Python loops. These operations are applied element-wise and are internally implemented in optimized C code, making them much faster than traditional loop-based approaches.\n",
        "\n"
      ],
      "metadata": {
        "id": "GsxTm1pK3wK4"
      }
    },
    {
      "cell_type": "code",
      "execution_count": 1,
      "metadata": {
        "colab": {
          "base_uri": "https://localhost:8080/"
        },
        "id": "fqG_M7IjsTp_",
        "outputId": "758ac1d2-64f1-47d2-8274-db49c82e5672"
      },
      "outputs": [
        {
          "output_type": "stream",
          "name": "stdout",
          "text": [
            "[2 4 6 8]\n"
          ]
        }
      ],
      "source": [
        "#Example of Vectorized Operation\n",
        "\n",
        "import numpy as np\n",
        "\n",
        "a = np.array([1, 2, 3, 4])\n",
        "b = a * 2  # Vectorized multiplication\n",
        "print(b)   # Output: [2 4 6 8]"
      ]
    },
    {
      "cell_type": "markdown",
      "source": [
        "# **9.How does Matplotlib differ from Plotly?**\n",
        "\n",
        "Ans- Matplotlib and Plotly are both popular Python libraries for data visualization, but they differ significantly in design, functionality, and use cases.\n",
        "\n",
        "Matplotlib is a traditional, static plotting library that is great for creating publication-quality plots with extensive customization options. It is widely used in scientific computing and integrates well with NumPy and Pandas. However, Matplotlib plots are typically static and non-interactive unless used in combination with other tools like Jupyter widgets.\n",
        "\n",
        " On the other hand, Plotly is a modern, interactive plotting library that allows users to create dynamic and web-friendly visualizations, such as zoomable, hoverable, and clickable charts. Plotly is particularly suited for dashboards and data exploration, as it generates HTML-based, interactive plots out of the box.\n",
        "\n",
        " While Matplotlib provides more control over every aspect of a plot’s appearance, Plotly excels in user interactivity and ease of integration into web applications or reports.\n",
        "\n",
        " In summary, Matplotlib is best for static, detailed, and customizable visualizations, whereas Plotly is ideal for creating interactive, visually engaging plots with minimal effort."
      ],
      "metadata": {
        "id": "ewY2XpVR4miz"
      }
    },
    {
      "cell_type": "markdown",
      "source": [
        "# **10.What is the significance of hierarchical indexing in Pandas?**\n",
        "\n",
        "Ans- Hierarchical indexing (also called MultiIndexing) in Pandas is a powerful feature that allows you to have multiple levels of index (row or column labels) in a DataFrame or Series. This enables you to work with higher-dimensional data in a lower-dimensional format (like 2D tables), providing a flexible and intuitive way to organize, access, and analyze complex datasets.\n",
        "\n"
      ],
      "metadata": {
        "id": "OYF9cJE95OxN"
      }
    },
    {
      "cell_type": "markdown",
      "source": [
        "# **11.What is the role of Seaborn’s pairplot() function?**\n",
        "\n",
        "Ans- The pairplot() function in Seaborn is a powerful tool for exploratory data analysis (EDA). It creates a grid of scatter plots that shows pairwise relationships between all numerical features in a dataset, along with histograms or KDEs on the diagonals to show individual variable distributions.\n",
        "\n"
      ],
      "metadata": {
        "id": "9fZcNbNX7T07"
      }
    },
    {
      "cell_type": "markdown",
      "source": [
        "# **# 12.What is the purpose of the describe() function in Pandas?**\n",
        "\n",
        "Ans- The describe() function in Pandas is used to generate summary statistics of a DataFrame or Series. It provides a quick overview of the central tendency, dispersion, and shape of a dataset's numerical (and optionally categorical) features.\n",
        "\n"
      ],
      "metadata": {
        "id": "5SHSvf3l8sfC"
      }
    },
    {
      "cell_type": "markdown",
      "source": [
        "# **13.Why is handling missing data important in Pandas?**\n",
        "\n",
        "Ans- Handling missing data is crucial in Pandas because incomplete or null values can distort your analysis, lead to incorrect conclusions, and cause errors in computations or models. In real-world datasets, missing data is common due to factors like data entry errors, incomplete records, or system limitations.\n",
        "\n"
      ],
      "metadata": {
        "id": "5rKlddqk9KCg"
      }
    },
    {
      "cell_type": "markdown",
      "source": [
        "# **14.What are the benefits of using Plotly for data visualization?**\n",
        "\n",
        "Ans- Plotly is a powerful and modern data visualization library in Python that excels at creating interactive, web-based visualizations. It offers a rich set of features that make it ideal for both exploratory analysis and dashboard development.\n",
        "\n",
        "\n",
        "### **Key Benefits of Using Plotly:**\n",
        "\n",
        "### 1.Interactive Visualizations\n",
        "\n",
        "Plotly plots are fully interactive — users can:\n",
        "\n",
        "Zoom, pan, and hover to see details\n",
        "\n",
        "Filter data dynamically\n",
        "\n",
        "Get tooltips with exact values\n",
        "This is incredibly useful for exploring large or complex datasets.\n",
        "\n",
        "### 2.Web-Ready and Embeddable\n",
        "\n",
        "Plotly generates visualizations in HTML and JavaScript, making them easy to:\n",
        "\n",
        "Embed in web apps or dashboards\n",
        "\n",
        "Share online or in Jupyter notebooks"
      ],
      "metadata": {
        "id": "KWgj1Bj9OFEo"
      }
    },
    {
      "cell_type": "markdown",
      "source": [
        "# **15.How does NumPy handle multidimensional arrays?**\n",
        "\n",
        "Ans- NumPy handles multidimensional arrays through its core data structure called the ndarray (N-dimensional array). This structure allows you to work efficiently with arrays that have more than one dimension, such as 2D matrices, 3D tensors, or even higher-dimensional data.\n",
        "\n"
      ],
      "metadata": {
        "id": "phJ2tQ8IP0uO"
      }
    },
    {
      "cell_type": "markdown",
      "source": [
        "# **16.What is the role of Bokeh in data visualization?**\n",
        "\n",
        "Ans- Bokeh is a powerful Python library for creating interactive, web-based data visualizations. Its primary role is to enable highly interactive plots and dashboards that can run in modern web browsers, making it ideal for real-time data exploration, interactive reports, and data-driven web applications.\n"
      ],
      "metadata": {
        "id": "Fi6aQTUdQaPa"
      }
    },
    {
      "cell_type": "markdown",
      "source": [
        "# **17.Explain the difference between apply() and map() in Pandas?**\n",
        "\n",
        "Ans-\n",
        "\n",
        "**map() in Pandas:-**\n",
        "\n",
        "The map() function in Pandas is used only with Series (i.e., a single column) and is primarily designed for element-wise transformations. It is commonly used to modify or replace values in a Series using a function, dictionary, or another Series. map() is ideal when you want to perform a simple transformation, such as converting categorical values to numeric codes, applying a function to each element, or using a dictionary for value mapping. For example, df['gender'].map({'M': 'Male', 'F': 'Female'}) replaces 'M' and 'F' with more descriptive labels. However, map() cannot be used directly on an entire DataFrame.\n",
        "\n",
        "\n",
        "**apply() in Pandas:-**\n",
        "\n",
        "The apply() function is more versatile and powerful than map() because it can be used with both Series and DataFrames. When applied to a Series, it behaves similarly to map(), applying a function to each element. However, when used on a DataFrame, apply() can apply a function row-wise (axis=1) or column-wise (axis=0), enabling more complex operations like row-level computations or column-based aggregations. For example, df.apply(np.sum, axis=0) sums each column, while df.apply(lambda row: row['A'] + row['B'], axis=1) adds values from two columns row-wise. In summary, apply() is more flexible and suited for operations involving multiple columns or rows, while map() is limited to element-wise transformations on Series."
      ],
      "metadata": {
        "id": "Az5Qop3zQn6R"
      }
    },
    {
      "cell_type": "markdown",
      "source": [
        "# **18.What are some advanced features of NumPy?**\n",
        "\n",
        "Ans- NumPy goes far beyond basic array creation and arithmetic. It offers a rich set of advanced features that make it an essential tool for scientific computing, data analysis, machine learning, and high-performance numerical operations.\n",
        "\n",
        "1.Broadcasting.\n",
        "\n",
        "2.Vectorization\n",
        "\n",
        "3.Advanced Indexing and Slicing.\n",
        "\n",
        "4.Multidimensional Arrays."
      ],
      "metadata": {
        "id": "wsmirQE1RQu9"
      }
    },
    {
      "cell_type": "markdown",
      "source": [
        "# **19.How does Pandas simplify time series analysis?**\n",
        "\n",
        "Ans- Pandas is exceptionally well-equipped for time series analysis, offering a wide range of tools and functions that make working with date- and time-based data intuitive, powerful, and efficient. It simplifies common tasks such as parsing dates, indexing by time, resampling, shifting, and handling missing data, all of which are crucial in time series workflows.\n",
        "\n"
      ],
      "metadata": {
        "id": "teEsOSxnUM6S"
      }
    },
    {
      "cell_type": "markdown",
      "source": [
        "# **20.A What is the role of a pivot table in Pandas?**\n",
        "\n",
        "Ans- A pivot table in Pandas is a powerful tool used to summarize, aggregate, and reorganize data. It allows you to transform a DataFrame into a new table where rows and columns represent unique combinations of values from specified columns, and the cell values show aggregated results (like sum, mean, count, etc.).\n",
        "\n"
      ],
      "metadata": {
        "id": "GSn914vDUkop"
      }
    },
    {
      "cell_type": "markdown",
      "source": [
        "# **21.Why is NumPy’s array slicing faster than Python’s list slicing?**\n",
        "\n",
        "Ans- NumPy's array slicing is faster than Python's list slicing because of its underlying memory structure and optimized implementation in C. NumPy arrays use contiguous blocks of memory with a fixed data type, enabling efficient, low-level memory access and vectorized operations without the overhead of Python’s object model.\n",
        "\n"
      ],
      "metadata": {
        "id": "jvgN65oeVIZq"
      }
    },
    {
      "cell_type": "markdown",
      "source": [
        "# **22.What are some common use cases for Seaborn?**\n",
        "\n",
        "Ans- Seaborn is a high-level Python data visualization library built on top of Matplotlib, and it's specifically designed for statistical graphics. It simplifies the process of creating visually attractive, informative, and easy-to-interpret plots, especially when working with Pandas DataFrames.\n",
        "\n"
      ],
      "metadata": {
        "id": "rorpeiMAWeQT"
      }
    },
    {
      "cell_type": "markdown",
      "source": [
        "# **PRACTICAL QUESTIONS **"
      ],
      "metadata": {
        "id": "ktLRF_nLW6zP"
      }
    },
    {
      "cell_type": "code",
      "source": [
        "#How do you create a 2D NumPy array and calculate the sum of each row...\n",
        "\n",
        "import numpy as np\n",
        "\n",
        "# Step 1: Create a 2D NumPy array\n",
        "arr = np.array([[1, 2, 3],\n",
        "                [4, 5, 6],\n",
        "                [7, 8, 9]])\n",
        "\n",
        "# Step 2: Calculate the sum of each row\n",
        "row_sums = np.sum(arr, axis=1)\n",
        "\n",
        "print(\"2D Array:\\n\", arr)\n",
        "print(\"Sum of each row:\", row_sums)\n"
      ],
      "metadata": {
        "colab": {
          "base_uri": "https://localhost:8080/"
        },
        "id": "bpQOKuLR8uYS",
        "outputId": "a9ad274e-269c-46f6-eb5a-ad9bc4efb3fb"
      },
      "execution_count": 1,
      "outputs": [
        {
          "output_type": "stream",
          "name": "stdout",
          "text": [
            "2D Array:\n",
            " [[1 2 3]\n",
            " [4 5 6]\n",
            " [7 8 9]]\n",
            "Sum of each row: [ 6 15 24]\n"
          ]
        }
      ]
    },
    {
      "cell_type": "code",
      "source": [
        "#Write a Pandas script to find the mean of a specific column in a DataFrame..\n",
        "\n",
        "\n",
        "import pandas as pd\n",
        "\n",
        "# Step 1: Create a sample DataFrame\n",
        "data = {\n",
        "    'Name': ['Alice', 'Bob', 'Charlie', 'David'],\n",
        "    'Age': [25, 30, 35, 40],\n",
        "    'Score': [85, 90, 88, 92]\n",
        "}\n",
        "\n",
        "df = pd.DataFrame(data)\n",
        "\n",
        "# Step 2: Calculate the mean of the 'Score' column\n",
        "mean_score = df['Score'].mean()\n",
        "\n",
        "print(\"Mean of the 'Score' column:\", mean_score)\n"
      ],
      "metadata": {
        "colab": {
          "base_uri": "https://localhost:8080/"
        },
        "id": "ew7Cq8kgZBfg",
        "outputId": "956158a1-6e02-4517-c64b-548afb1a54a0"
      },
      "execution_count": 2,
      "outputs": [
        {
          "output_type": "stream",
          "name": "stdout",
          "text": [
            "Mean of the 'Score' column: 88.75\n"
          ]
        }
      ]
    },
    {
      "cell_type": "code",
      "source": [
        "#Create a scatter plot using Matplotlib...\n",
        "\n",
        "import matplotlib.pyplot as plt\n",
        "\n",
        "# Sample data\n",
        "x = [10, 20, 30, 40, 50]\n",
        "y = [2, 4, 5, 7, 11]\n",
        "\n",
        "# Create a scatter plot\n",
        "plt.scatter(x, y, color='blue', marker='o')\n",
        "\n",
        "# Add labels and title\n",
        "plt.xlabel('X-axis')\n",
        "plt.ylabel('Y-axis')\n",
        "plt.title('Simple Scatter Plot')\n",
        "\n",
        "# Show the plot\n",
        "plt.show()\n"
      ],
      "metadata": {
        "colab": {
          "base_uri": "https://localhost:8080/",
          "height": 472
        },
        "id": "CTsXo1LEbVUc",
        "outputId": "abdd8f8b-b4a9-4555-e5d2-e5ec7b7d95d1"
      },
      "execution_count": 3,
      "outputs": [
        {
          "output_type": "display_data",
          "data": {
            "text/plain": [
              "<Figure size 640x480 with 1 Axes>"
            ],
            "image/png": "[encoded data removed]"
          },
          "metadata": {}
        }
      ]
    },
    {
      "cell_type": "code",
      "source": [
        "#How do you calculate the correlation matrix using Seaborn and visualize it with a heatmap..\n",
        "\n",
        "import pandas as pd\n",
        "import seaborn as sns\n",
        "import matplotlib.pyplot as plt\n",
        "\n",
        "# Step 1: Create or load a DataFrame\n",
        "data = {\n",
        "    'Math': [90, 80, 70, 65, 85],\n",
        "    'Science': [88, 75, 70, 60, 80],\n",
        "    'English': [85, 78, 72, 70, 82]\n",
        "}\n",
        "\n",
        "df = pd.DataFrame(data)\n",
        "\n",
        "# Step 2: Calculate the correlation matrix\n",
        "corr_matrix = df.corr()\n",
        "\n",
        "# Step 3: Visualize using a heatmap\n",
        "sns.heatmap(corr_matrix, annot=True, cmap='coolwarm', fmt=\".2f\")\n",
        "\n",
        "# Step 4: Show the plot\n",
        "plt.title(\"Correlation Matrix Heatmap\")\n",
        "plt.show()\n"
      ],
      "metadata": {
        "colab": {
          "base_uri": "https://localhost:8080/",
          "height": 452
        },
        "id": "Hlf6L5FGdLAy",
        "outputId": "428c1869-8247-437b-d8ab-87d5ce97b117"
      },
      "execution_count": 4,
      "outputs": [
        {
          "output_type": "display_data",
          "data": {
            "text/plain": [
              "<Figure size 640x480 with 2 Axes>"
            ],
            "image/png": "[encoded data removed]"
          },
          "metadata": {}
        }
      ]
    },
    {
      "cell_type": "code",
      "source": [
        "#Generate a bar plot using Plotly...\n",
        "\n",
        "import plotly.express as px\n",
        "df = px.data.tips()\n",
        "fig = px.bar(df, x=\"sex\", y=\"total_bill\", color=\"smoker\", barmode=\"group\")\n",
        "fig.show()"
      ],
      "metadata": {
        "colab": {
          "base_uri": "https://localhost:8080/",
          "height": 542
        },
        "id": "VdryfHvSdyIf",
        "outputId": "d5dd8d32-1f25-40ee-cbef-233998749853"
      },
      "execution_count": 5,
      "outputs": [
        {
          "output_type": "display_data",
          "data": {
            "text/html": [
              "<html>\n",
              "<head><meta charset=\"utf-8\" /></head>\n",
              "<body>\n",
              "    <div>            <script src=\"https://cdnjs.cloudflare.com/ajax/libs/mathjax/2.7.5/MathJax.js?config=TeX-AMS-MML_SVG\"></script><script type=\"text/javascript\">if (window.MathJax && window.MathJax.Hub && window.MathJax.Hub.Config) {window.MathJax.Hub.Config({SVG: {font: \"STIX-Web\"}});}</script>                <script type=\"text/javascript\">window.PlotlyConfig = {MathJaxConfig: 'local'};</script>\n",
              "        <script charset=\"utf-8\" src=\"https://cdn.plot.ly/plotly-2.35.2.min.js\"></script>                <div id=\"3841e22d-166d-4420-b71a-e6252d6b243f\" class=\"plotly-graph-div\" style=\"height:525px; width:100%;\"></div>            <script type=\"text/javascript\">                                    window.PLOTLYENV=window.PLOTLYENV || {};                                    if (document.getElementById(\"3841e22d-166d-4420-b71a-e6252d6b243f\")) {                    Plotly.newPlot(                        \"3841e22d-166d-4420-b71a-e6252d6b243f\",                        [{\"alignmentgroup\":\"True\",\"hovertemplate\":\"smoker=No\\u003cbr\\u003esex=%{x}\\u003cbr\\u003etotal_bill=%{y}\\u003cextra\\u003e\\u003c\\u002fextra\\u003e\",\"legendgroup\":\"No\",\"marker\":{\"color\":\"#636efa\",\"pattern\":{\"shape\":\"\"}},\"name\":\"No\",\"offsetgroup\":\"No\",\"orientation\":\"v\",\"showlegend\":true,\"textposition\":\"auto\",\"x\":[\"Female\",\"Male\",\"Male\",\"Male\",\"Female\",\"Male\",\"Male\",\"Male\",\"Male\",\"Male\",\"Male\",\"Female\",\"Male\",\"Male\",\"Female\",\"Male\",\"Female\",\"Male\",\"Female\",\"Male\",\"Male\",\"Female\",\"Female\",\"Male\",\"Male\",\"Male\",\"Male\",\"Male\",\"Male\",\"Female\",\"Male\",\"Male\",\"Female\",\"Female\",\"Male\",\"Male\",\"Male\",\"Female\",\"Male\",\"Male\",\"Male\",\"Male\",\"Male\",\"Male\",\"Male\",\"Male\",\"Male\",\"Male\",\"Male\",\"Male\",\"Male\",\"Female\",\"Female\",\"Male\",\"Male\",\"Male\",\"Female\",\"Male\",\"Male\",\"Male\",\"Female\",\"Male\",\"Male\",\"Female\",\"Female\",\"Male\",\"Male\",\"Male\",\"Male\",\"Male\",\"Female\",\"Male\",\"Female\",\"Male\",\"Male\",\"Male\",\"Male\",\"Male\",\"Female\",\"Male\",\"Female\",\"Male\",\"Male\",\"Female\",\"Male\",\"Male\",\"Female\",\"Female\",\"Male\",\"Female\",\"Female\",\"Female\",\"Male\",\"Female\",\"Male\",\"Male\",\"Female\",\"Female\",\"Male\",\"Female\",\"Female\",\"Male\",\"Male\",\"Female\",\"Female\",\"Female\",\"Female\",\"Female\",\"Female\",\"Female\",\"Female\",\"Female\",\"Male\",\"Male\",\"Female\",\"Female\",\"Female\",\"Female\",\"Female\",\"Male\",\"Male\",\"Male\",\"Male\",\"Male\",\"Male\",\"Male\",\"Female\",\"Male\",\"Female\",\"Female\",\"Male\",\"Male\",\"Male\",\"Female\",\"Male\",\"Male\",\"Male\",\"Male\",\"Male\",\"Male\",\"Male\",\"Female\",\"Male\",\"Male\",\"Male\",\"Male\",\"Male\",\"Female\",\"Male\",\"Male\",\"Female\"],\"xaxis\":\"x\",\"y\":[16.99,10.34,21.01,23.68,24.59,25.29,8.77,26.88,15.04,14.78,10.27,35.26,15.42,18.43,14.83,21.58,10.33,16.29,16.97,20.65,17.92,20.29,15.77,39.42,19.82,17.81,13.37,12.69,21.7,19.65,9.55,18.35,15.06,20.69,17.78,24.06,16.31,16.93,18.69,31.27,16.04,17.46,13.94,9.68,30.4,18.29,22.23,32.4,28.55,18.04,12.54,10.29,34.81,9.94,25.56,19.49,26.41,48.27,17.59,20.08,16.45,20.23,12.02,17.07,14.73,10.51,27.2,22.76,17.29,16.66,10.07,15.98,34.83,13.03,18.28,24.71,21.16,22.49,22.75,12.46,20.92,18.24,14.0,7.25,38.07,23.95,25.71,17.31,29.93,10.65,12.43,24.08,11.69,13.42,14.26,15.95,12.48,29.8,8.52,14.52,11.38,22.82,19.08,20.27,11.17,12.26,18.26,8.51,10.33,14.15,13.16,17.47,34.3,41.19,27.05,16.43,8.35,18.64,11.87,9.78,7.51,14.07,13.13,17.26,24.55,19.77,29.85,48.17,25.0,13.39,16.49,21.5,12.66,16.21,13.81,24.52,20.76,31.71,20.69,7.56,48.33,15.98,20.45,13.28,11.61,10.77,10.07,35.83,29.03,17.82,18.78],\"yaxis\":\"y\",\"type\":\"bar\"},{\"alignmentgroup\":\"True\",\"hovertemplate\":\"smoker=Yes\\u003cbr\\u003esex=%{x}\\u003cbr\\u003etotal_bill=%{y}\\u003cextra\\u003e\\u003c\\u002fextra\\u003e\",\"legendgroup\":\"Yes\",\"marker\":{\"color\":\"#EF553B\",\"pattern\":{\"shape\":\"\"}},\"name\":\"Yes\",\"offsetgroup\":\"Yes\",\"orientation\":\"v\",\"showlegend\":true,\"textposition\":\"auto\",\"x\":[\"Male\",\"Male\",\"Male\",\"Male\",\"Male\",\"Male\",\"Female\",\"Male\",\"Female\",\"Female\",\"Male\",\"Male\",\"Male\",\"Male\",\"Female\",\"Female\",\"Male\",\"Male\",\"Male\",\"Male\",\"Female\",\"Female\",\"Female\",\"Female\",\"Male\",\"Male\",\"Male\",\"Female\",\"Male\",\"Female\",\"Female\",\"Female\",\"Male\",\"Male\",\"Male\",\"Male\",\"Male\",\"Male\",\"Male\",\"Male\",\"Female\",\"Male\",\"Male\",\"Male\",\"Male\",\"Male\",\"Male\",\"Female\",\"Male\",\"Female\",\"Male\",\"Male\",\"Female\",\"Male\",\"Male\",\"Male\",\"Male\",\"Female\",\"Female\",\"Male\",\"Male\",\"Female\",\"Female\",\"Female\",\"Male\",\"Female\",\"Male\",\"Male\",\"Male\",\"Female\",\"Male\",\"Male\",\"Female\",\"Female\",\"Female\",\"Male\",\"Male\",\"Male\",\"Female\",\"Male\",\"Female\",\"Male\",\"Male\",\"Female\",\"Female\",\"Female\",\"Male\",\"Male\",\"Male\",\"Male\",\"Male\",\"Female\",\"Male\"],\"xaxis\":\"x\",\"y\":[38.01,11.24,20.29,13.81,11.02,18.29,3.07,15.01,26.86,25.28,17.92,19.44,32.68,28.97,5.75,16.32,40.17,27.28,12.03,21.01,11.35,15.38,44.3,22.42,15.36,20.49,25.21,14.31,16.0,17.51,10.59,10.63,50.81,15.81,7.25,31.85,16.82,32.9,17.89,14.48,9.6,34.63,34.65,23.33,45.35,23.17,40.55,20.9,30.46,18.15,23.1,15.69,19.81,28.44,15.48,16.58,10.34,43.11,13.0,13.51,18.71,12.74,13.0,16.4,20.53,16.47,26.59,38.73,24.27,12.76,30.06,25.89,13.27,28.17,12.9,28.15,11.59,7.74,30.14,12.16,13.42,8.58,13.42,16.27,10.09,22.12,24.01,15.69,15.53,12.6,32.83,27.18,22.67],\"yaxis\":\"y\",\"type\":\"bar\"}],                        {\"template\":{\"data\":{\"histogram2dcontour\":[{\"type\":\"histogram2dcontour\",\"colorbar\":{\"outlinewidth\":0,\"ticks\":\"\"},\"colorscale\":[[0.0,\"#0d0887\"],[0.1111111111111111,\"#46039f\"],[0.2222222222222222,\"#7201a8\"],[0.3333333333333333,\"#9c179e\"],[0.4444444444444444,\"#bd3786\"],[0.5555555555555556,\"#d8576b\"],[0.6666666666666666,\"#ed7953\"],[0.7777777777777778,\"#fb9f3a\"],[0.8888888888888888,\"#fdca26\"],[1.0,\"#f0f921\"]]}],\"choropleth\":[{\"type\":\"choropleth\",\"colorbar\":{\"outlinewidth\":0,\"ticks\":\"\"}}],\"histogram2d\":[{\"type\":\"histogram2d\",\"colorbar\":{\"outlinewidth\":0,\"ticks\":\"\"},\"colorscale\":[[0.0,\"#0d0887\"],[0.1111111111111111,\"#46039f\"],[0.2222222222222222,\"#7201a8\"],[0.3333333333333333,\"#9c179e\"],[0.4444444444444444,\"#bd3786\"],[0.5555555555555556,\"#d8576b\"],[0.6666666666666666,\"#ed7953\"],[0.7777777777777778,\"#fb9f3a\"],[0.8888888888888888,\"#fdca26\"],[1.0,\"#f0f921\"]]}],\"heatmap\":[{\"type\":\"heatmap\",\"colorbar\":{\"outlinewidth\":0,\"ticks\":\"\"},\"colorscale\":[[0.0,\"#0d0887\"],[0.1111111111111111,\"#46039f\"],[0.2222222222222222,\"#7201a8\"],[0.3333333333333333,\"#9c179e\"],[0.4444444444444444,\"#bd3786\"],[0.5555555555555556,\"#d8576b\"],[0.6666666666666666,\"#ed7953\"],[0.7777777777777778,\"#fb9f3a\"],[0.8888888888888888,\"#fdca26\"],[1.0,\"#f0f921\"]]}],\"heatmapgl\":[{\"type\":\"heatmapgl\",\"colorbar\":{\"outlinewidth\":0,\"ticks\":\"\"},\"colorscale\":[[0.0,\"#0d0887\"],[0.1111111111111111,\"#46039f\"],[0.2222222222222222,\"#7201a8\"],[0.3333333333333333,\"#9c179e\"],[0.4444444444444444,\"#bd3786\"],[0.5555555555555556,\"#d8576b\"],[0.6666666666666666,\"#ed7953\"],[0.7777777777777778,\"#fb9f3a\"],[0.8888888888888888,\"#fdca26\"],[1.0,\"#f0f921\"]]}],\"contourcarpet\":[{\"type\":\"contourcarpet\",\"colorbar\":{\"outlinewidth\":0,\"ticks\":\"\"}}],\"contour\":[{\"type\":\"contour\",\"colorbar\":{\"outlinewidth\":0,\"ticks\":\"\"},\"colorscale\":[[0.0,\"#0d0887\"],[0.1111111111111111,\"#46039f\"],[0.2222222222222222,\"#7201a8\"],[0.3333333333333333,\"#9c179e\"],[0.4444444444444444,\"#bd3786\"],[0.5555555555555556,\"#d8576b\"],[0.6666666666666666,\"#ed7953\"],[0.7777777777777778,\"#fb9f3a\"],[0.8888888888888888,\"#fdca26\"],[1.0,\"#f0f921\"]]}],\"surface\":[{\"type\":\"surface\",\"colorbar\":{\"outlinewidth\":0,\"ticks\":\"\"},\"colorscale\":[[0.0,\"#0d0887\"],[0.1111111111111111,\"#46039f\"],[0.2222222222222222,\"#7201a8\"],[0.3333333333333333,\"#9c179e\"],[0.4444444444444444,\"#bd3786\"],[0.5555555555555556,\"#d8576b\"],[0.6666666666666666,\"#ed7953\"],[0.7777777777777778,\"#fb9f3a\"],[0.8888888888888888,\"#fdca26\"],[1.0,\"#f0f921\"]]}],\"mesh3d\":[{\"type\":\"mesh3d\",\"colorbar\":{\"outlinewidth\":0,\"ticks\":\"\"}}],\"scatter\":[{\"fillpattern\":{\"fillmode\":\"overlay\",\"size\":10,\"solidity\":0.2},\"type\":\"scatter\"}],\"parcoords\":[{\"type\":\"parcoords\",\"line\":{\"colorbar\":{\"outlinewidth\":0,\"ticks\":\"\"}}}],\"scatterpolargl\":[{\"type\":\"scatterpolargl\",\"marker\":{\"colorbar\":{\"outlinewidth\":0,\"ticks\":\"\"}}}],\"bar\":[{\"error_x\":{\"color\":\"#2a3f5f\"},\"error_y\":{\"color\":\"#2a3f5f\"},\"marker\":{\"line\":{\"color\":\"#E5ECF6\",\"width\":0.5},\"pattern\":{\"fillmode\":\"overlay\",\"size\":10,\"solidity\":0.2}},\"type\":\"bar\"}],\"scattergeo\":[{\"type\":\"scattergeo\",\"marker\":{\"colorbar\":{\"outlinewidth\":0,\"ticks\":\"\"}}}],\"scatterpolar\":[{\"type\":\"scatterpolar\",\"marker\":{\"colorbar\":{\"outlinewidth\":0,\"ticks\":\"\"}}}],\"histogram\":[{\"marker\":{\"pattern\":{\"fillmode\":\"overlay\",\"size\":10,\"solidity\":0.2}},\"type\":\"histogram\"}],\"scattergl\":[{\"type\":\"scattergl\",\"marker\":{\"colorbar\":{\"outlinewidth\":0,\"ticks\":\"\"}}}],\"scatter3d\":[{\"type\":\"scatter3d\",\"line\":{\"colorbar\":{\"outlinewidth\":0,\"ticks\":\"\"}},\"marker\":{\"colorbar\":{\"outlinewidth\":0,\"ticks\":\"\"}}}],\"scattermapbox\":[{\"type\":\"scattermapbox\",\"marker\":{\"colorbar\":{\"outlinewidth\":0,\"ticks\":\"\"}}}],\"scatterternary\":[{\"type\":\"scatterternary\",\"marker\":{\"colorbar\":{\"outlinewidth\":0,\"ticks\":\"\"}}}],\"scattercarpet\":[{\"type\":\"scattercarpet\",\"marker\":{\"colorbar\":{\"outlinewidth\":0,\"ticks\":\"\"}}}],\"carpet\":[{\"aaxis\":{\"endlinecolor\":\"#2a3f5f\",\"gridcolor\":\"white\",\"linecolor\":\"white\",\"minorgridcolor\":\"white\",\"startlinecolor\":\"#2a3f5f\"},\"baxis\":{\"endlinecolor\":\"#2a3f5f\",\"gridcolor\":\"white\",\"linecolor\":\"white\",\"minorgridcolor\":\"white\",\"startlinecolor\":\"#2a3f5f\"},\"type\":\"carpet\"}],\"table\":[{\"cells\":{\"fill\":{\"color\":\"#EBF0F8\"},\"line\":{\"color\":\"white\"}},\"header\":{\"fill\":{\"color\":\"#C8D4E3\"},\"line\":{\"color\":\"white\"}},\"type\":\"table\"}],\"barpolar\":[{\"marker\":{\"line\":{\"color\":\"#E5ECF6\",\"width\":0.5},\"pattern\":{\"fillmode\":\"overlay\",\"size\":10,\"solidity\":0.2}},\"type\":\"barpolar\"}],\"pie\":[{\"automargin\":true,\"type\":\"pie\"}]},\"layout\":{\"autotypenumbers\":\"strict\",\"colorway\":[\"#636efa\",\"#EF553B\",\"#00cc96\",\"#ab63fa\",\"#FFA15A\",\"#19d3f3\",\"#FF6692\",\"#B6E880\",\"#FF97FF\",\"#FECB52\"],\"font\":{\"color\":\"#2a3f5f\"},\"hovermode\":\"closest\",\"hoverlabel\":{\"align\":\"left\"},\"paper_bgcolor\":\"white\",\"plot_bgcolor\":\"#E5ECF6\",\"polar\":{\"bgcolor\":\"#E5ECF6\",\"angularaxis\":{\"gridcolor\":\"white\",\"linecolor\":\"white\",\"ticks\":\"\"},\"radialaxis\":{\"gridcolor\":\"white\",\"linecolor\":\"white\",\"ticks\":\"\"}},\"ternary\":{\"bgcolor\":\"#E5ECF6\",\"aaxis\":{\"gridcolor\":\"white\",\"linecolor\":\"white\",\"ticks\":\"\"},\"baxis\":{\"gridcolor\":\"white\",\"linecolor\":\"white\",\"ticks\":\"\"},\"caxis\":{\"gridcolor\":\"white\",\"linecolor\":\"white\",\"ticks\":\"\"}},\"coloraxis\":{\"colorbar\":{\"outlinewidth\":0,\"ticks\":\"\"}},\"colorscale\":{\"sequential\":[[0.0,\"#0d0887\"],[0.1111111111111111,\"#46039f\"],[0.2222222222222222,\"#7201a8\"],[0.3333333333333333,\"#9c179e\"],[0.4444444444444444,\"#bd3786\"],[0.5555555555555556,\"#d8576b\"],[0.6666666666666666,\"#ed7953\"],[0.7777777777777778,\"#fb9f3a\"],[0.8888888888888888,\"#fdca26\"],[1.0,\"#f0f921\"]],\"sequentialminus\":[[0.0,\"#0d0887\"],[0.1111111111111111,\"#46039f\"],[0.2222222222222222,\"#7201a8\"],[0.3333333333333333,\"#9c179e\"],[0.4444444444444444,\"#bd3786\"],[0.5555555555555556,\"#d8576b\"],[0.6666666666666666,\"#ed7953\"],[0.7777777777777778,\"#fb9f3a\"],[0.8888888888888888,\"#fdca26\"],[1.0,\"#f0f921\"]],\"diverging\":[[0,\"#8e0152\"],[0.1,\"#c51b7d\"],[0.2,\"#de77ae\"],[0.3,\"#f1b6da\"],[0.4,\"#fde0ef\"],[0.5,\"#f7f7f7\"],[0.6,\"#e6f5d0\"],[0.7,\"#b8e186\"],[0.8,\"#7fbc41\"],[0.9,\"#4d9221\"],[1,\"#276419\"]]},\"xaxis\":{\"gridcolor\":\"white\",\"linecolor\":\"white\",\"ticks\":\"\",\"title\":{\"standoff\":15},\"zerolinecolor\":\"white\",\"automargin\":true,\"zerolinewidth\":2},\"yaxis\":{\"gridcolor\":\"white\",\"linecolor\":\"white\",\"ticks\":\"\",\"title\":{\"standoff\":15},\"zerolinecolor\":\"white\",\"automargin\":true,\"zerolinewidth\":2},\"scene\":{\"xaxis\":{\"backgroundcolor\":\"#E5ECF6\",\"gridcolor\":\"white\",\"linecolor\":\"white\",\"showbackground\":true,\"ticks\":\"\",\"zerolinecolor\":\"white\",\"gridwidth\":2},\"yaxis\":{\"backgroundcolor\":\"#E5ECF6\",\"gridcolor\":\"white\",\"linecolor\":\"white\",\"showbackground\":true,\"ticks\":\"\",\"zerolinecolor\":\"white\",\"gridwidth\":2},\"zaxis\":{\"backgroundcolor\":\"#E5ECF6\",\"gridcolor\":\"white\",\"linecolor\":\"white\",\"showbackground\":true,\"ticks\":\"\",\"zerolinecolor\":\"white\",\"gridwidth\":2}},\"shapedefaults\":{\"line\":{\"color\":\"#2a3f5f\"}},\"annotationdefaults\":{\"arrowcolor\":\"#2a3f5f\",\"arrowhead\":0,\"arrowwidth\":1},\"geo\":{\"bgcolor\":\"white\",\"landcolor\":\"#E5ECF6\",\"subunitcolor\":\"white\",\"showland\":true,\"showlakes\":true,\"lakecolor\":\"white\"},\"title\":{\"x\":0.05},\"mapbox\":{\"style\":\"light\"}}},\"xaxis\":{\"anchor\":\"y\",\"domain\":[0.0,1.0],\"title\":{\"text\":\"sex\"}},\"yaxis\":{\"anchor\":\"x\",\"domain\":[0.0,1.0],\"title\":{\"text\":\"total_bill\"}},\"legend\":{\"title\":{\"text\":\"smoker\"},\"tracegroupgap\":0},\"margin\":{\"t\":60},\"barmode\":\"group\"},                        {\"responsive\": true}                    ).then(function(){\n",
              "                            \n",
              "var gd = document.getElementById('3841e22d-166d-4420-b71a-e6252d6b243f');\n",
              "var x = new MutationObserver(function (mutations, observer) {{\n",
              "        var display = window.getComputedStyle(gd).display;\n",
              "        if (!display || display === 'none') {{\n",
              "            console.log([gd, 'removed!']);\n",
              "            Plotly.purge(gd);\n",
              "            observer.disconnect();\n",
              "        }}\n",
              "}});\n",
              "\n",
              "// Listen for the removal of the full notebook cells\n",
              "var notebookContainer = gd.closest('#notebook-container');\n",
              "if (notebookContainer) {{\n",
              "    x.observe(notebookContainer, {childList: true});\n",
              "}}\n",
              "\n",
              "// Listen for the clearing of the current output cell\n",
              "var outputEl = gd.closest('.output');\n",
              "if (outputEl) {{\n",
              "    x.observe(outputEl, {childList: true});\n",
              "}}\n",
              "\n",
              "                        })                };                            </script>        </div>\n",
              "</body>\n",
              "</html>"
            ]
          },
          "metadata": {}
        }
      ]
    },
    {
      "cell_type": "code",
      "source": [
        "#Create a DataFrame and add a new column based on an existing column..\n",
        "\n",
        "import pandas as pd\n",
        "\n",
        "# Step 1: Create a sample DataFrame\n",
        "data = {\n",
        "    'Name': ['Alice', 'Bob', 'Charlie', 'David'],\n",
        "    'Score': [85, 92, 78, 88]\n",
        "}\n",
        "\n",
        "df = pd.DataFrame(data)\n",
        "\n",
        "# Step 2: Add a new column based on the 'Score' column\n",
        "# Example: Add a 'Result' column where Score >= 80 is 'Pass', else 'Fail'\n",
        "df['Result'] = df['Score'].apply(lambda x: 'Pass' if x >= 80 else 'Fail')\n",
        "\n",
        "# Display the updated DataFrame\n",
        "print(df)\n"
      ],
      "metadata": {
        "colab": {
          "base_uri": "https://localhost:8080/"
        },
        "id": "Owl5Avn8eONC",
        "outputId": "2d3d13af-6115-46cc-e4c1-74a01cdc1a57"
      },
      "execution_count": 6,
      "outputs": [
        {
          "output_type": "stream",
          "name": "stdout",
          "text": [
            "      Name  Score Result\n",
            "0    Alice     85   Pass\n",
            "1      Bob     92   Pass\n",
            "2  Charlie     78   Fail\n",
            "3    David     88   Pass\n"
          ]
        }
      ]
    },
    {
      "cell_type": "code",
      "source": [
        "#Write a program to perform element-wise multiplication of two NumPy arrays...\n",
        "\n",
        "import numpy as np\n",
        "\n",
        "# Step 1: Create two NumPy arrays\n",
        "array1 = np.array([1, 2, 3, 4])\n",
        "array2 = np.array([5, 6, 7, 8])\n",
        "\n",
        "# Step 2: Perform element-wise multiplication\n",
        "result = array1 * array2\n",
        "\n",
        "# Display the result\n",
        "print(\"Array 1:\", array1)\n",
        "print(\"Array 2:\", array2)\n",
        "print(\"Element-wise multiplication:\", result)\n"
      ],
      "metadata": {
        "colab": {
          "base_uri": "https://localhost:8080/"
        },
        "id": "6FcHclOhfSMM",
        "outputId": "ca05735b-e6aa-48f6-f865-8984b9057de4"
      },
      "execution_count": 7,
      "outputs": [
        {
          "output_type": "stream",
          "name": "stdout",
          "text": [
            "Array 1: [1 2 3 4]\n",
            "Array 2: [5 6 7 8]\n",
            "Element-wise multiplication: [ 5 12 21 32]\n"
          ]
        }
      ]
    },
    {
      "cell_type": "code",
      "source": [
        "#Create a line plot with multiple lines using Matplotlib...\n",
        "\n",
        "import matplotlib.pyplot as plt\n",
        "\n",
        "# Sample data\n",
        "x = [1, 2, 3, 4, 5]\n",
        "y1 = [2, 4, 6, 8, 10]\n",
        "y2 = [1, 3, 5, 7, 9]\n",
        "y3 = [5, 3, 4, 2, 1]\n",
        "\n",
        "# Create the plot\n",
        "plt.plot(x, y1, label='Line 1', color='blue', marker='o')\n",
        "plt.plot(x, y2, label='Line 2', color='green', linestyle='--', marker='s')\n",
        "plt.plot(x, y3, label='Line 3', color='red', linestyle=':', marker='^')\n",
        "\n",
        "# Add labels and title\n",
        "plt.xlabel('X-axis')\n",
        "plt.ylabel('Y-axis')\n",
        "plt.title('Multiple Line Plot')\n",
        "\n",
        "# Add a legend\n",
        "plt.legend()\n",
        "\n",
        "# Show the plot\n",
        "plt.show()\n"
      ],
      "metadata": {
        "colab": {
          "base_uri": "https://localhost:8080/",
          "height": 472
        },
        "id": "BYqUimaPf0Pv",
        "outputId": "65621b49-4705-4b62-a3d9-d52d5e0bcd36"
      },
      "execution_count": 8,
      "outputs": [
        {
          "output_type": "display_data",
          "data": {
            "text/plain": [
              "<Figure size 640x480 with 1 Axes>"
            ],
            "image/png": "[encoded data removed]"
          },
          "metadata": {}
        }
      ]
    },
    {
      "cell_type": "code",
      "source": [
        "# Generate a Pandas DataFrame and filter rows where a column value is greater than a threshold...\n",
        "\n",
        "import pandas as pd\n",
        "\n",
        "# Step 1: Create a sample DataFrame\n",
        "data = {\n",
        "    'Name': ['Alice', 'Bob', 'Charlie', 'David'],\n",
        "    'Score': [85, 72, 90, 65]\n",
        "}\n",
        "\n",
        "df = pd.DataFrame(data)\n",
        "\n",
        "# Step 2: Filter rows where 'Score' is greater than 75\n",
        "filtered_df = df[df['Score'] > 75]\n",
        "\n",
        "# Display the filtered DataFrame\n",
        "print(\"Filtered DataFrame:\\n\", filtered_df)\n"
      ],
      "metadata": {
        "colab": {
          "base_uri": "https://localhost:8080/"
        },
        "id": "196Fo4wigBVW",
        "outputId": "c90e65d6-0f2c-4e65-d9b7-98b66a732071"
      },
      "execution_count": 9,
      "outputs": [
        {
          "output_type": "stream",
          "name": "stdout",
          "text": [
            "Filtered DataFrame:\n",
            "       Name  Score\n",
            "0    Alice     85\n",
            "2  Charlie     90\n"
          ]
        }
      ]
    },
    {
      "cell_type": "code",
      "source": [
        "#Create a histogram using Seaborn to visualize a distribution...\n",
        "\n",
        "import seaborn as sns\n",
        "import matplotlib.pyplot as plt\n",
        "import pandas as pd\n",
        "import numpy as np\n",
        "\n",
        "# Step 1: Create some sample data\n",
        "data = pd.DataFrame({\n",
        "    'Scores': np.random.normal(loc=70, scale=10, size=100)  # 100 values centered around 70\n",
        "})\n",
        "\n",
        "# Step 2: Create a histogram using Seaborn\n",
        "sns.histplot(data['Scores'], bins=10, kde=True, color='skyblue')\n",
        "\n",
        "# Step 3: Add titles and labels\n",
        "plt.title('Score Distribution')\n",
        "plt.xlabel('Scores')\n",
        "plt.ylabel('Frequency')\n",
        "\n",
        "# Step 4: Show the plot\n",
        "plt.show()\n"
      ],
      "metadata": {
        "colab": {
          "base_uri": "https://localhost:8080/",
          "height": 472
        },
        "id": "OgwPmNQMhF0J",
        "outputId": "86afea19-b3ae-437d-eb7a-f1aab481eef8"
      },
      "execution_count": 10,
      "outputs": [
        {
          "output_type": "display_data",
          "data": {
            "text/plain": [
              "<Figure size 640x480 with 1 Axes>"
            ],
            "image/png": "[encoded data removed]"
          },
          "metadata": {}
        }
      ]
    },
    {
      "cell_type": "code",
      "source": [
        "#Perform matrix multiplication using NumPy...\n",
        "\n",
        "import numpy as np\n",
        "\n",
        "# Step 1: Define two matrices (2D NumPy arrays)\n",
        "A = np.array([[1, 2],\n",
        "              [3, 4]])\n",
        "\n",
        "B = np.array([[5, 6],\n",
        "              [7, 8]])\n",
        "\n",
        "# Step 2: Perform matrix multiplication\n",
        "result = np.dot(A, B)  # or use A @ B\n",
        "\n",
        "# Display the result\n",
        "print(\"Matrix A:\\n\", A)\n",
        "print(\"Matrix B:\\n\", B)\n",
        "print(\"Matrix Multiplication Result:\\n\", result)\n"
      ],
      "metadata": {
        "colab": {
          "base_uri": "https://localhost:8080/"
        },
        "id": "F0kgwotlhqae",
        "outputId": "c9760eb9-8ac1-4f2b-a543-cb257a2f8c9c"
      },
      "execution_count": 11,
      "outputs": [
        {
          "output_type": "stream",
          "name": "stdout",
          "text": [
            "Matrix A:\n",
            " [[1 2]\n",
            " [3 4]]\n",
            "Matrix B:\n",
            " [[5 6]\n",
            " [7 8]]\n",
            "Matrix Multiplication Result:\n",
            " [[19 22]\n",
            " [43 50]]\n"
          ]
        }
      ]
    },
    {
      "cell_type": "code",
      "source": [
        "#Use Pandas to load a CSV file and display its first 5 rows....\n",
        "\n",
        "import pandas as pd\n",
        "\n",
        "# Step 1: Load the CSV file\n",
        "df = pd.read_csv('/content/services.csv')  # Replace with your actual file name or path\n",
        "\n",
        "df.head()\n"
      ],
      "metadata": {
        "colab": {
          "base_uri": "https://localhost:8080/",
          "height": 672
        },
        "id": "11fGGApUh0RN",
        "outputId": "12fc720c-7f63-4a81-9b21-fab8eace1bf2"
      },
      "execution_count": 17,
      "outputs": [
        {
          "output_type": "execute_result",
          "data": {
            "text/plain": [
              "   id  location_id  program_id accepted_payments alternate_name  \\\n",
              "0   1            1         NaN               NaN            NaN   \n",
              "1   2            2         NaN               NaN            NaN   \n",
              "2   3            3         NaN               NaN            NaN   \n",
              "3   4            4         NaN               NaN            NaN   \n",
              "4   5            5         NaN               NaN            NaN   \n",
              "\n",
              "                           application_process  \\\n",
              "0                   Walk in or apply by phone.   \n",
              "1           Apply by phone for an appointment.   \n",
              "2  Phone for information (403-4300 Ext. 4322).   \n",
              "3                              Apply by phone.   \n",
              "4                       Phone for information.   \n",
              "\n",
              "                                            audience  \\\n",
              "0  Older adults age 55 or over, ethnic minorities...   \n",
              "1       Residents of San Mateo County age 55 or over   \n",
              "2  Older adults age 55 or over who can benefit fr...   \n",
              "3  Parents, children, families with problems of c...   \n",
              "4  Low-income working families with children tran...   \n",
              "\n",
              "                                         description  \\\n",
              "0  A walk-in center for older adults that provide...   \n",
              "1  Provides training and job placement to eligibl...   \n",
              "2  Offers supportive counseling services to San M...   \n",
              "3  Provides supervised visitation services and a ...   \n",
              "4  Provides fixed 8% short term loans to eligible...   \n",
              "\n",
              "                                         eligibility email  ...  \\\n",
              "0  Age 55 or over for most programs, age 60 or ov...   NaN  ...   \n",
              "1  Age 55 or over, county resident and willing an...   NaN  ...   \n",
              "2        Resident of San Mateo County age 55 or over   NaN  ...   \n",
              "3                                                NaN   NaN  ...   \n",
              "4  Eligibility: Low-income family with legal cust...   NaN  ...   \n",
              "\n",
              "  interpretation_services                                           keywords  \\\n",
              "0                     NaN  ADULT PROTECTION AND CARE SERVICES, Meal Sites...   \n",
              "1                     NaN  EMPLOYMENT/TRAINING SERVICES, Job Development,...   \n",
              "2                     NaN  Geriatric Counseling, Older Adults, Gay, Lesbi...   \n",
              "3                     NaN  INDIVIDUAL AND FAMILY DEVELOPMENT SERVICES, Gr...   \n",
              "4                     NaN     COMMUNITY SERVICES, Speakers, Automobile Loans   \n",
              "\n",
              "  languages                               name required_documents  \\\n",
              "0       NaN    Fair Oaks Adult Activity Center                NaN   \n",
              "1       NaN   Second Career Employment Program                NaN   \n",
              "2       NaN             Senior Peer Counseling                NaN   \n",
              "3       NaN           Family Visitation Center                NaN   \n",
              "4       NaN  Economic Self-Sufficiency Program                NaN   \n",
              "\n",
              "      service_areas  status wait_time website taxonomy_ids  \n",
              "0             Colma  active  No wait.     NaN          NaN  \n",
              "1  San Mateo County  active   Varies.     NaN          NaN  \n",
              "2  San Mateo County  active   Varies.     NaN          NaN  \n",
              "3  San Mateo County  active  No wait.     NaN          NaN  \n",
              "4  San Mateo County  active       NaN     NaN          NaN  \n",
              "\n",
              "[5 rows x 22 columns]"
            ],
            "text/html": [
              "\n",
              "  <div id=\"df-d64b51bf-93b0-40b8-87d8-44dd56f415b9\" class=\"colab-df-container\">\n",
              "    <div>\n",
              "<style scoped>\n",
              "    .dataframe tbody tr th:only-of-type {\n",
              "        vertical-align: middle;\n",
              "    }\n",
              "\n",
              "    .dataframe tbody tr th {\n",
              "        vertical-align: top;\n",
              "    }\n",
              "\n",
              "    .dataframe thead th {\n",
              "        text-align: right;\n",
              "    }\n",
              "</style>\n",
              "<table border=\"1\" class=\"dataframe\">\n",
              "  <thead>\n",
              "    <tr style=\"text-align: right;\">\n",
              "      <th></th>\n",
              "      <th>id</th>\n",
              "      <th>location_id</th>\n",
              "      <th>program_id</th>\n",
              "      <th>accepted_payments</th>\n",
              "      <th>alternate_name</th>\n",
              "      <th>application_process</th>\n",
              "      <th>audience</th>\n",
              "      <th>description</th>\n",
              "      <th>eligibility</th>\n",
              "      <th>email</th>\n",
              "      <th>...</th>\n",
              "      <th>interpretation_services</th>\n",
              "      <th>keywords</th>\n",
              "      <th>languages</th>\n",
              "      <th>name</th>\n",
              "      <th>required_documents</th>\n",
              "      <th>service_areas</th>\n",
              "      <th>status</th>\n",
              "      <th>wait_time</th>\n",
              "      <th>website</th>\n",
              "      <th>taxonomy_ids</th>\n",
              "    </tr>\n",
              "  </thead>\n",
              "  <tbody>\n",
              "    <tr>\n",
              "      <th>0</th>\n",
              "      <td>1</td>\n",
              "      <td>1</td>\n",
              "      <td>NaN</td>\n",
              "      <td>NaN</td>\n",
              "      <td>NaN</td>\n",
              "      <td>Walk in or apply by phone.</td>\n",
              "      <td>Older adults age 55 or over, ethnic minorities...</td>\n",
              "      <td>A walk-in center for older adults that provide...</td>\n",
              "      <td>Age 55 or over for most programs, age 60 or ov...</td>\n",
              "      <td>NaN</td>\n",
              "      <td>...</td>\n",
              "      <td>NaN</td>\n",
              "      <td>ADULT PROTECTION AND CARE SERVICES, Meal Sites...</td>\n",
              "      <td>NaN</td>\n",
              "      <td>Fair Oaks Adult Activity Center</td>\n",
              "      <td>NaN</td>\n",
              "      <td>Colma</td>\n",
              "      <td>active</td>\n",
              "      <td>No wait.</td>\n",
              "      <td>NaN</td>\n",
              "      <td>NaN</td>\n",
              "    </tr>\n",
              "    <tr>\n",
              "      <th>1</th>\n",
              "      <td>2</td>\n",
              "      <td>2</td>\n",
              "      <td>NaN</td>\n",
              "      <td>NaN</td>\n",
              "      <td>NaN</td>\n",
              "      <td>Apply by phone for an appointment.</td>\n",
              "      <td>Residents of San Mateo County age 55 or over</td>\n",
              "      <td>Provides training and job placement to eligibl...</td>\n",
              "      <td>Age 55 or over, county resident and willing an...</td>\n",
              "      <td>NaN</td>\n",
              "      <td>...</td>\n",
              "      <td>NaN</td>\n",
              "      <td>EMPLOYMENT/TRAINING SERVICES, Job Development,...</td>\n",
              "      <td>NaN</td>\n",
              "      <td>Second Career Employment Program</td>\n",
              "      <td>NaN</td>\n",
              "      <td>San Mateo County</td>\n",
              "      <td>active</td>\n",
              "      <td>Varies.</td>\n",
              "      <td>NaN</td>\n",
              "      <td>NaN</td>\n",
              "    </tr>\n",
              "    <tr>\n",
              "      <th>2</th>\n",
              "      <td>3</td>\n",
              "      <td>3</td>\n",
              "      <td>NaN</td>\n",
              "      <td>NaN</td>\n",
              "      <td>NaN</td>\n",
              "      <td>Phone for information (403-4300 Ext. 4322).</td>\n",
              "      <td>Older adults age 55 or over who can benefit fr...</td>\n",
              "      <td>Offers supportive counseling services to San M...</td>\n",
              "      <td>Resident of San Mateo County age 55 or over</td>\n",
              "      <td>NaN</td>\n",
              "      <td>...</td>\n",
              "      <td>NaN</td>\n",
              "      <td>Geriatric Counseling, Older Adults, Gay, Lesbi...</td>\n",
              "      <td>NaN</td>\n",
              "      <td>Senior Peer Counseling</td>\n",
              "      <td>NaN</td>\n",
              "      <td>San Mateo County</td>\n",
              "      <td>active</td>\n",
              "      <td>Varies.</td>\n",
              "      <td>NaN</td>\n",
              "      <td>NaN</td>\n",
              "    </tr>\n",
              "    <tr>\n",
              "      <th>3</th>\n",
              "      <td>4</td>\n",
              "      <td>4</td>\n",
              "      <td>NaN</td>\n",
              "      <td>NaN</td>\n",
              "      <td>NaN</td>\n",
              "      <td>Apply by phone.</td>\n",
              "      <td>Parents, children, families with problems of c...</td>\n",
              "      <td>Provides supervised visitation services and a ...</td>\n",
              "      <td>NaN</td>\n",
              "      <td>NaN</td>\n",
              "      <td>...</td>\n",
              "      <td>NaN</td>\n",
              "      <td>INDIVIDUAL AND FAMILY DEVELOPMENT SERVICES, Gr...</td>\n",
              "      <td>NaN</td>\n",
              "      <td>Family Visitation Center</td>\n",
              "      <td>NaN</td>\n",
              "      <td>San Mateo County</td>\n",
              "      <td>active</td>\n",
              "      <td>No wait.</td>\n",
              "      <td>NaN</td>\n",
              "      <td>NaN</td>\n",
              "    </tr>\n",
              "    <tr>\n",
              "      <th>4</th>\n",
              "      <td>5</td>\n",
              "      <td>5</td>\n",
              "      <td>NaN</td>\n",
              "      <td>NaN</td>\n",
              "      <td>NaN</td>\n",
              "      <td>Phone for information.</td>\n",
              "      <td>Low-income working families with children tran...</td>\n",
              "      <td>Provides fixed 8% short term loans to eligible...</td>\n",
              "      <td>Eligibility: Low-income family with legal cust...</td>\n",
              "      <td>NaN</td>\n",
              "      <td>...</td>\n",
              "      <td>NaN</td>\n",
              "      <td>COMMUNITY SERVICES, Speakers, Automobile Loans</td>\n",
              "      <td>NaN</td>\n",
              "      <td>Economic Self-Sufficiency Program</td>\n",
              "      <td>NaN</td>\n",
              "      <td>San Mateo County</td>\n",
              "      <td>active</td>\n",
              "      <td>NaN</td>\n",
              "      <td>NaN</td>\n",
              "      <td>NaN</td>\n",
              "    </tr>\n",
              "  </tbody>\n",
              "</table>\n",
              "<p>5 rows × 22 columns</p>\n",
              "</div>\n",
              "    <div class=\"colab-df-buttons\">\n",
              "\n",
              "  <div class=\"colab-df-container\">\n",
              "    <button class=\"colab-df-convert\" onclick=\"convertToInteractive('df-d64b51bf-93b0-40b8-87d8-44dd56f415b9')\"\n",
              "            title=\"Convert this dataframe to an interactive table.\"\n",
              "            style=\"display:none;\">\n",
              "\n",
              "  <svg xmlns=\"http://www.w3.org/2000/svg\" height=\"24px\" viewBox=\"0 -960 960 960\">\n",
              "    <path d=\"M120-120v-720h720v720H120Zm60-500h600v-160H180v160Zm220 220h160v-160H400v160Zm0 220h160v-160H400v160ZM180-400h160v-160H180v160Zm440 0h160v-160H620v160ZM180-180h160v-160H180v160Zm440 0h160v-160H620v160Z\"/>\n",
              "  </svg>\n",
              "    </button>\n",
              "\n",
              "  <style>\n",
              "    .colab-df-container {\n",
              "      display:flex;\n",
              "      gap: 12px;\n",
              "    }\n",
              "\n",
              "    .colab-df-convert {\n",
              "      background-color: #E8F0FE;\n",
              "      border: none;\n",
              "      border-radius: 50%;\n",
              "      cursor: pointer;\n",
              "      display: none;\n",
              "      fill: #1967D2;\n",
              "      height: 32px;\n",
              "      padding: 0 0 0 0;\n",
              "      width: 32px;\n",
              "    }\n",
              "\n",
              "    .colab-df-convert:hover {\n",
              "      background-color: #E2EBFA;\n",
              "      box-shadow: 0px 1px 2px rgba(60, 64, 67, 0.3), 0px 1px 3px 1px rgba(60, 64, 67, 0.15);\n",
              "      fill: #174EA6;\n",
              "    }\n",
              "\n",
              "    .colab-df-buttons div {\n",
              "      margin-bottom: 4px;\n",
              "    }\n",
              "\n",
              "    [theme=dark] .colab-df-convert {\n",
              "      background-color: #3B4455;\n",
              "      fill: #D2E3FC;\n",
              "    }\n",
              "\n",
              "    [theme=dark] .colab-df-convert:hover {\n",
              "      background-color: #434B5C;\n",
              "      box-shadow: 0px 1px 3px 1px rgba(0, 0, 0, 0.15);\n",
              "      filter: drop-shadow(0px 1px 2px rgba(0, 0, 0, 0.3));\n",
              "      fill: #FFFFFF;\n",
              "    }\n",
              "  </style>\n",
              "\n",
              "    <script>\n",
              "      const buttonEl =\n",
              "        document.querySelector('#df-d64b51bf-93b0-40b8-87d8-44dd56f415b9 button.colab-df-convert');\n",
              "      buttonEl.style.display =\n",
              "        google.colab.kernel.accessAllowed ? 'block' : 'none';\n",
              "\n",
              "      async function convertToInteractive(key) {\n",
              "        const element = document.querySelector('#df-d64b51bf-93b0-40b8-87d8-44dd56f415b9');\n",
              "        const dataTable =\n",
              "          await google.colab.kernel.invokeFunction('convertToInteractive',\n",
              "                                                    [key], {});\n",
              "        if (!dataTable) return;\n",
              "\n",
              "        const docLinkHtml = 'Like what you see? Visit the ' +\n",
              "          '<a target=\"_blank\" href=https://colab.research.google.com/notebooks/data_table.ipynb>data table notebook</a>'\n",
              "          + ' to learn more about interactive tables.';\n",
              "        element.innerHTML = '';\n",
              "        dataTable['output_type'] = 'display_data';\n",
              "        await google.colab.output.renderOutput(dataTable, element);\n",
              "        const docLink = document.createElement('div');\n",
              "        docLink.innerHTML = docLinkHtml;\n",
              "        element.appendChild(docLink);\n",
              "      }\n",
              "    </script>\n",
              "  </div>\n",
              "\n",
              "\n",
              "    <div id=\"df-473e75b1-248d-466c-a548-3de7c7a7cf58\">\n",
              "      <button class=\"colab-df-quickchart\" onclick=\"quickchart('df-473e75b1-248d-466c-a548-3de7c7a7cf58')\"\n",
              "                title=\"Suggest charts\"\n",
              "                style=\"display:none;\">\n",
              "\n",
              "<svg xmlns=\"http://www.w3.org/2000/svg\" height=\"24px\"viewBox=\"0 0 24 24\"\n",
              "     width=\"24px\">\n",
              "    <g>\n",
              "        <path d=\"M19 3H5c-1.1 0-2 .9-2 2v14c0 1.1.9 2 2 2h14c1.1 0 2-.9 2-2V5c0-1.1-.9-2-2-2zM9 17H7v-7h2v7zm4 0h-2V7h2v10zm4 0h-2v-4h2v4z\"/>\n",
              "    </g>\n",
              "</svg>\n",
              "      </button>\n",
              "\n",
              "<style>\n",
              "  .colab-df-quickchart {\n",
              "      --bg-color: #E8F0FE;\n",
              "      --fill-color: #1967D2;\n",
              "      --hover-bg-color: #E2EBFA;\n",
              "      --hover-fill-color: #174EA6;\n",
              "      --disabled-fill-color: #AAA;\n",
              "      --disabled-bg-color: #DDD;\n",
              "  }\n",
              "\n",
              "  [theme=dark] .colab-df-quickchart {\n",
              "      --bg-color: #3B4455;\n",
              "      --fill-color: #D2E3FC;\n",
              "      --hover-bg-color: #434B5C;\n",
              "      --hover-fill-color: #FFFFFF;\n",
              "      --disabled-bg-color: #3B4455;\n",
              "      --disabled-fill-color: #666;\n",
              "  }\n",
              "\n",
              "  .colab-df-quickchart {\n",
              "    background-color: var(--bg-color);\n",
              "    border: none;\n",
              "    border-radius: 50%;\n",
              "    cursor: pointer;\n",
              "    display: none;\n",
              "    fill: var(--fill-color);\n",
              "    height: 32px;\n",
              "    padding: 0;\n",
              "    width: 32px;\n",
              "  }\n",
              "\n",
              "  .colab-df-quickchart:hover {\n",
              "    background-color: var(--hover-bg-color);\n",
              "    box-shadow: 0 1px 2px rgba(60, 64, 67, 0.3), 0 1px 3px 1px rgba(60, 64, 67, 0.15);\n",
              "    fill: var(--button-hover-fill-color);\n",
              "  }\n",
              "\n",
              "  .colab-df-quickchart-complete:disabled,\n",
              "  .colab-df-quickchart-complete:disabled:hover {\n",
              "    background-color: var(--disabled-bg-color);\n",
              "    fill: var(--disabled-fill-color);\n",
              "    box-shadow: none;\n",
              "  }\n",
              "\n",
              "  .colab-df-spinner {\n",
              "    border: 2px solid var(--fill-color);\n",
              "    border-color: transparent;\n",
              "    border-bottom-color: var(--fill-color);\n",
              "    animation:\n",
              "      spin 1s steps(1) infinite;\n",
              "  }\n",
              "\n",
              "  @keyframes spin {\n",
              "    0% {\n",
              "      border-color: transparent;\n",
              "      border-bottom-color: var(--fill-color);\n",
              "      border-left-color: var(--fill-color);\n",
              "    }\n",
              "    20% {\n",
              "      border-color: transparent;\n",
              "      border-left-color: var(--fill-color);\n",
              "      border-top-color: var(--fill-color);\n",
              "    }\n",
              "    30% {\n",
              "      border-color: transparent;\n",
              "      border-left-color: var(--fill-color);\n",
              "      border-top-color: var(--fill-color);\n",
              "      border-right-color: var(--fill-color);\n",
              "    }\n",
              "    40% {\n",
              "      border-color: transparent;\n",
              "      border-right-color: var(--fill-color);\n",
              "      border-top-color: var(--fill-color);\n",
              "    }\n",
              "    60% {\n",
              "      border-color: transparent;\n",
              "      border-right-color: var(--fill-color);\n",
              "    }\n",
              "    80% {\n",
              "      border-color: transparent;\n",
              "      border-right-color: var(--fill-color);\n",
              "      border-bottom-color: var(--fill-color);\n",
              "    }\n",
              "    90% {\n",
              "      border-color: transparent;\n",
              "      border-bottom-color: var(--fill-color);\n",
              "    }\n",
              "  }\n",
              "</style>\n",
              "\n",
              "      <script>\n",
              "        async function quickchart(key) {\n",
              "          const quickchartButtonEl =\n",
              "            document.querySelector('#' + key + ' button');\n",
              "          quickchartButtonEl.disabled = true;  // To prevent multiple clicks.\n",
              "          quickchartButtonEl.classList.add('colab-df-spinner');\n",
              "          try {\n",
              "            const charts = await google.colab.kernel.invokeFunction(\n",
              "                'suggestCharts', [key], {});\n",
              "          } catch (error) {\n",
              "            console.error('Error during call to suggestCharts:', error);\n",
              "          }\n",
              "          quickchartButtonEl.classList.remove('colab-df-spinner');\n",
              "          quickchartButtonEl.classList.add('colab-df-quickchart-complete');\n",
              "        }\n",
              "        (() => {\n",
              "          let quickchartButtonEl =\n",
              "            document.querySelector('#df-473e75b1-248d-466c-a548-3de7c7a7cf58 button');\n",
              "          quickchartButtonEl.style.display =\n",
              "            google.colab.kernel.accessAllowed ? 'block' : 'none';\n",
              "        })();\n",
              "      </script>\n",
              "    </div>\n",
              "\n",
              "    </div>\n",
              "  </div>\n"
            ],
            "application/vnd.google.colaboratory.intrinsic+json": {
              "type": "dataframe",
              "variable_name": "df"
            }
          },
          "metadata": {},
          "execution_count": 17
        }
      ]
    },
    {
      "cell_type": "code",
      "source": [
        "#Create a 3D scatter plot using Plotly...\n",
        "\n",
        "\n",
        "import plotly.graph_objects as go\n",
        "\n",
        "# Sample data\n",
        "x = [10, 20, 30, 40, 50]\n",
        "y = [5, 15, 25, 35, 45]\n",
        "z = [2, 4, 1, 8, 7]\n",
        "\n",
        "# Create a 3D scatter plot\n",
        "fig = go.Figure(data=[go.Scatter3d(\n",
        "    x=x,\n",
        "    y=y,\n",
        "    z=z,\n",
        "    mode='markers',\n",
        "    marker=dict(\n",
        "        size=8,\n",
        "        color=z,                # Color by Z values\n",
        "        colorscale='Viridis',  # Choose a colorscale\n",
        "        opacity=0.8\n",
        "    )\n",
        ")])\n",
        "\n",
        "# Add title and axis labels\n",
        "fig.update_layout(\n",
        "    title='3D Scatter Plot Example',\n",
        "    scene=dict(\n",
        "        xaxis_title='X Axis',\n",
        "        yaxis_title='Y Axis',\n",
        "        zaxis_title='Z Axis'\n",
        "    )\n",
        ")\n",
        "\n",
        "# Show the plot\n",
        "fig.show()\n"
      ],
      "metadata": {
        "colab": {
          "base_uri": "https://localhost:8080/",
          "height": 542
        },
        "id": "IKU5XwN1h-_M",
        "outputId": "aa5daefe-14b8-4960-d872-0e80c36ba0f8"
      },
      "execution_count": 18,
      "outputs": [
        {
          "output_type": "display_data",
          "data": {
            "text/html": [
              "<html>\n",
              "<head><meta charset=\"utf-8\" /></head>\n",
              "<body>\n",
              "    <div>            <script src=\"https://cdnjs.cloudflare.com/ajax/libs/mathjax/2.7.5/MathJax.js?config=TeX-AMS-MML_SVG\"></script><script type=\"text/javascript\">if (window.MathJax && window.MathJax.Hub && window.MathJax.Hub.Config) {window.MathJax.Hub.Config({SVG: {font: \"STIX-Web\"}});}</script>                <script type=\"text/javascript\">window.PlotlyConfig = {MathJaxConfig: 'local'};</script>\n",
              "        <script charset=\"utf-8\" src=\"https://cdn.plot.ly/plotly-2.35.2.min.js\"></script>                <div id=\"7050ef86-26c4-4747-9a2d-ea7b195f81d2\" class=\"plotly-graph-div\" style=\"height:525px; width:100%;\"></div>            <script type=\"text/javascript\">                                    window.PLOTLYENV=window.PLOTLYENV || {};                                    if (document.getElementById(\"7050ef86-26c4-4747-9a2d-ea7b195f81d2\")) {                    Plotly.newPlot(                        \"7050ef86-26c4-4747-9a2d-ea7b195f81d2\",                        [{\"marker\":{\"color\":[2,4,1,8,7],\"colorscale\":[[0.0,\"#440154\"],[0.1111111111111111,\"#482878\"],[0.2222222222222222,\"#3e4989\"],[0.3333333333333333,\"#31688e\"],[0.4444444444444444,\"#26828e\"],[0.5555555555555556,\"#1f9e89\"],[0.6666666666666666,\"#35b779\"],[0.7777777777777778,\"#6ece58\"],[0.8888888888888888,\"#b5de2b\"],[1.0,\"#fde725\"]],\"opacity\":0.8,\"size\":8},\"mode\":\"markers\",\"x\":[10,20,30,40,50],\"y\":[5,15,25,35,45],\"z\":[2,4,1,8,7],\"type\":\"scatter3d\"}],                        {\"template\":{\"data\":{\"histogram2dcontour\":[{\"type\":\"histogram2dcontour\",\"colorbar\":{\"outlinewidth\":0,\"ticks\":\"\"},\"colorscale\":[[0.0,\"#0d0887\"],[0.1111111111111111,\"#46039f\"],[0.2222222222222222,\"#7201a8\"],[0.3333333333333333,\"#9c179e\"],[0.4444444444444444,\"#bd3786\"],[0.5555555555555556,\"#d8576b\"],[0.6666666666666666,\"#ed7953\"],[0.7777777777777778,\"#fb9f3a\"],[0.8888888888888888,\"#fdca26\"],[1.0,\"#f0f921\"]]}],\"choropleth\":[{\"type\":\"choropleth\",\"colorbar\":{\"outlinewidth\":0,\"ticks\":\"\"}}],\"histogram2d\":[{\"type\":\"histogram2d\",\"colorbar\":{\"outlinewidth\":0,\"ticks\":\"\"},\"colorscale\":[[0.0,\"#0d0887\"],[0.1111111111111111,\"#46039f\"],[0.2222222222222222,\"#7201a8\"],[0.3333333333333333,\"#9c179e\"],[0.4444444444444444,\"#bd3786\"],[0.5555555555555556,\"#d8576b\"],[0.6666666666666666,\"#ed7953\"],[0.7777777777777778,\"#fb9f3a\"],[0.8888888888888888,\"#fdca26\"],[1.0,\"#f0f921\"]]}],\"heatmap\":[{\"type\":\"heatmap\",\"colorbar\":{\"outlinewidth\":0,\"ticks\":\"\"},\"colorscale\":[[0.0,\"#0d0887\"],[0.1111111111111111,\"#46039f\"],[0.2222222222222222,\"#7201a8\"],[0.3333333333333333,\"#9c179e\"],[0.4444444444444444,\"#bd3786\"],[0.5555555555555556,\"#d8576b\"],[0.6666666666666666,\"#ed7953\"],[0.7777777777777778,\"#fb9f3a\"],[0.8888888888888888,\"#fdca26\"],[1.0,\"#f0f921\"]]}],\"heatmapgl\":[{\"type\":\"heatmapgl\",\"colorbar\":{\"outlinewidth\":0,\"ticks\":\"\"},\"colorscale\":[[0.0,\"#0d0887\"],[0.1111111111111111,\"#46039f\"],[0.2222222222222222,\"#7201a8\"],[0.3333333333333333,\"#9c179e\"],[0.4444444444444444,\"#bd3786\"],[0.5555555555555556,\"#d8576b\"],[0.6666666666666666,\"#ed7953\"],[0.7777777777777778,\"#fb9f3a\"],[0.8888888888888888,\"#fdca26\"],[1.0,\"#f0f921\"]]}],\"contourcarpet\":[{\"type\":\"contourcarpet\",\"colorbar\":{\"outlinewidth\":0,\"ticks\":\"\"}}],\"contour\":[{\"type\":\"contour\",\"colorbar\":{\"outlinewidth\":0,\"ticks\":\"\"},\"colorscale\":[[0.0,\"#0d0887\"],[0.1111111111111111,\"#46039f\"],[0.2222222222222222,\"#7201a8\"],[0.3333333333333333,\"#9c179e\"],[0.4444444444444444,\"#bd3786\"],[0.5555555555555556,\"#d8576b\"],[0.6666666666666666,\"#ed7953\"],[0.7777777777777778,\"#fb9f3a\"],[0.8888888888888888,\"#fdca26\"],[1.0,\"#f0f921\"]]}],\"surface\":[{\"type\":\"surface\",\"colorbar\":{\"outlinewidth\":0,\"ticks\":\"\"},\"colorscale\":[[0.0,\"#0d0887\"],[0.1111111111111111,\"#46039f\"],[0.2222222222222222,\"#7201a8\"],[0.3333333333333333,\"#9c179e\"],[0.4444444444444444,\"#bd3786\"],[0.5555555555555556,\"#d8576b\"],[0.6666666666666666,\"#ed7953\"],[0.7777777777777778,\"#fb9f3a\"],[0.8888888888888888,\"#fdca26\"],[1.0,\"#f0f921\"]]}],\"mesh3d\":[{\"type\":\"mesh3d\",\"colorbar\":{\"outlinewidth\":0,\"ticks\":\"\"}}],\"scatter\":[{\"fillpattern\":{\"fillmode\":\"overlay\",\"size\":10,\"solidity\":0.2},\"type\":\"scatter\"}],\"parcoords\":[{\"type\":\"parcoords\",\"line\":{\"colorbar\":{\"outlinewidth\":0,\"ticks\":\"\"}}}],\"scatterpolargl\":[{\"type\":\"scatterpolargl\",\"marker\":{\"colorbar\":{\"outlinewidth\":0,\"ticks\":\"\"}}}],\"bar\":[{\"error_x\":{\"color\":\"#2a3f5f\"},\"error_y\":{\"color\":\"#2a3f5f\"},\"marker\":{\"line\":{\"color\":\"#E5ECF6\",\"width\":0.5},\"pattern\":{\"fillmode\":\"overlay\",\"size\":10,\"solidity\":0.2}},\"type\":\"bar\"}],\"scattergeo\":[{\"type\":\"scattergeo\",\"marker\":{\"colorbar\":{\"outlinewidth\":0,\"ticks\":\"\"}}}],\"scatterpolar\":[{\"type\":\"scatterpolar\",\"marker\":{\"colorbar\":{\"outlinewidth\":0,\"ticks\":\"\"}}}],\"histogram\":[{\"marker\":{\"pattern\":{\"fillmode\":\"overlay\",\"size\":10,\"solidity\":0.2}},\"type\":\"histogram\"}],\"scattergl\":[{\"type\":\"scattergl\",\"marker\":{\"colorbar\":{\"outlinewidth\":0,\"ticks\":\"\"}}}],\"scatter3d\":[{\"type\":\"scatter3d\",\"line\":{\"colorbar\":{\"outlinewidth\":0,\"ticks\":\"\"}},\"marker\":{\"colorbar\":{\"outlinewidth\":0,\"ticks\":\"\"}}}],\"scattermapbox\":[{\"type\":\"scattermapbox\",\"marker\":{\"colorbar\":{\"outlinewidth\":0,\"ticks\":\"\"}}}],\"scatterternary\":[{\"type\":\"scatterternary\",\"marker\":{\"colorbar\":{\"outlinewidth\":0,\"ticks\":\"\"}}}],\"scattercarpet\":[{\"type\":\"scattercarpet\",\"marker\":{\"colorbar\":{\"outlinewidth\":0,\"ticks\":\"\"}}}],\"carpet\":[{\"aaxis\":{\"endlinecolor\":\"#2a3f5f\",\"gridcolor\":\"white\",\"linecolor\":\"white\",\"minorgridcolor\":\"white\",\"startlinecolor\":\"#2a3f5f\"},\"baxis\":{\"endlinecolor\":\"#2a3f5f\",\"gridcolor\":\"white\",\"linecolor\":\"white\",\"minorgridcolor\":\"white\",\"startlinecolor\":\"#2a3f5f\"},\"type\":\"carpet\"}],\"table\":[{\"cells\":{\"fill\":{\"color\":\"#EBF0F8\"},\"line\":{\"color\":\"white\"}},\"header\":{\"fill\":{\"color\":\"#C8D4E3\"},\"line\":{\"color\":\"white\"}},\"type\":\"table\"}],\"barpolar\":[{\"marker\":{\"line\":{\"color\":\"#E5ECF6\",\"width\":0.5},\"pattern\":{\"fillmode\":\"overlay\",\"size\":10,\"solidity\":0.2}},\"type\":\"barpolar\"}],\"pie\":[{\"automargin\":true,\"type\":\"pie\"}]},\"layout\":{\"autotypenumbers\":\"strict\",\"colorway\":[\"#636efa\",\"#EF553B\",\"#00cc96\",\"#ab63fa\",\"#FFA15A\",\"#19d3f3\",\"#FF6692\",\"#B6E880\",\"#FF97FF\",\"#FECB52\"],\"font\":{\"color\":\"#2a3f5f\"},\"hovermode\":\"closest\",\"hoverlabel\":{\"align\":\"left\"},\"paper_bgcolor\":\"white\",\"plot_bgcolor\":\"#E5ECF6\",\"polar\":{\"bgcolor\":\"#E5ECF6\",\"angularaxis\":{\"gridcolor\":\"white\",\"linecolor\":\"white\",\"ticks\":\"\"},\"radialaxis\":{\"gridcolor\":\"white\",\"linecolor\":\"white\",\"ticks\":\"\"}},\"ternary\":{\"bgcolor\":\"#E5ECF6\",\"aaxis\":{\"gridcolor\":\"white\",\"linecolor\":\"white\",\"ticks\":\"\"},\"baxis\":{\"gridcolor\":\"white\",\"linecolor\":\"white\",\"ticks\":\"\"},\"caxis\":{\"gridcolor\":\"white\",\"linecolor\":\"white\",\"ticks\":\"\"}},\"coloraxis\":{\"colorbar\":{\"outlinewidth\":0,\"ticks\":\"\"}},\"colorscale\":{\"sequential\":[[0.0,\"#0d0887\"],[0.1111111111111111,\"#46039f\"],[0.2222222222222222,\"#7201a8\"],[0.3333333333333333,\"#9c179e\"],[0.4444444444444444,\"#bd3786\"],[0.5555555555555556,\"#d8576b\"],[0.6666666666666666,\"#ed7953\"],[0.7777777777777778,\"#fb9f3a\"],[0.8888888888888888,\"#fdca26\"],[1.0,\"#f0f921\"]],\"sequentialminus\":[[0.0,\"#0d0887\"],[0.1111111111111111,\"#46039f\"],[0.2222222222222222,\"#7201a8\"],[0.3333333333333333,\"#9c179e\"],[0.4444444444444444,\"#bd3786\"],[0.5555555555555556,\"#d8576b\"],[0.6666666666666666,\"#ed7953\"],[0.7777777777777778,\"#fb9f3a\"],[0.8888888888888888,\"#fdca26\"],[1.0,\"#f0f921\"]],\"diverging\":[[0,\"#8e0152\"],[0.1,\"#c51b7d\"],[0.2,\"#de77ae\"],[0.3,\"#f1b6da\"],[0.4,\"#fde0ef\"],[0.5,\"#f7f7f7\"],[0.6,\"#e6f5d0\"],[0.7,\"#b8e186\"],[0.8,\"#7fbc41\"],[0.9,\"#4d9221\"],[1,\"#276419\"]]},\"xaxis\":{\"gridcolor\":\"white\",\"linecolor\":\"white\",\"ticks\":\"\",\"title\":{\"standoff\":15},\"zerolinecolor\":\"white\",\"automargin\":true,\"zerolinewidth\":2},\"yaxis\":{\"gridcolor\":\"white\",\"linecolor\":\"white\",\"ticks\":\"\",\"title\":{\"standoff\":15},\"zerolinecolor\":\"white\",\"automargin\":true,\"zerolinewidth\":2},\"scene\":{\"xaxis\":{\"backgroundcolor\":\"#E5ECF6\",\"gridcolor\":\"white\",\"linecolor\":\"white\",\"showbackground\":true,\"ticks\":\"\",\"zerolinecolor\":\"white\",\"gridwidth\":2},\"yaxis\":{\"backgroundcolor\":\"#E5ECF6\",\"gridcolor\":\"white\",\"linecolor\":\"white\",\"showbackground\":true,\"ticks\":\"\",\"zerolinecolor\":\"white\",\"gridwidth\":2},\"zaxis\":{\"backgroundcolor\":\"#E5ECF6\",\"gridcolor\":\"white\",\"linecolor\":\"white\",\"showbackground\":true,\"ticks\":\"\",\"zerolinecolor\":\"white\",\"gridwidth\":2}},\"shapedefaults\":{\"line\":{\"color\":\"#2a3f5f\"}},\"annotationdefaults\":{\"arrowcolor\":\"#2a3f5f\",\"arrowhead\":0,\"arrowwidth\":1},\"geo\":{\"bgcolor\":\"white\",\"landcolor\":\"#E5ECF6\",\"subunitcolor\":\"white\",\"showland\":true,\"showlakes\":true,\"lakecolor\":\"white\"},\"title\":{\"x\":0.05},\"mapbox\":{\"style\":\"light\"}}},\"title\":{\"text\":\"3D Scatter Plot Example\"},\"scene\":{\"xaxis\":{\"title\":{\"text\":\"X Axis\"}},\"yaxis\":{\"title\":{\"text\":\"Y Axis\"}},\"zaxis\":{\"title\":{\"text\":\"Z Axis\"}}}},                        {\"responsive\": true}                    ).then(function(){\n",
              "                            \n",
              "var gd = document.getElementById('7050ef86-26c4-4747-9a2d-ea7b195f81d2');\n",
              "var x = new MutationObserver(function (mutations, observer) {{\n",
              "        var display = window.getComputedStyle(gd).display;\n",
              "        if (!display || display === 'none') {{\n",
              "            console.log([gd, 'removed!']);\n",
              "            Plotly.purge(gd);\n",
              "            observer.disconnect();\n",
              "        }}\n",
              "}});\n",
              "\n",
              "// Listen for the removal of the full notebook cells\n",
              "var notebookContainer = gd.closest('#notebook-container');\n",
              "if (notebookContainer) {{\n",
              "    x.observe(notebookContainer, {childList: true});\n",
              "}}\n",
              "\n",
              "// Listen for the clearing of the current output cell\n",
              "var outputEl = gd.closest('.output');\n",
              "if (outputEl) {{\n",
              "    x.observe(outputEl, {childList: true});\n",
              "}}\n",
              "\n",
              "                        })                };                            </script>        </div>\n",
              "</body>\n",
              "</html>"
            ]
          },
          "metadata": {}
        }
      ]
    },
    {
      "cell_type": "code",
      "source": [],
      "metadata": {
        "id": "l5QF3I0Ci9sZ"
      },
      "execution_count": null,
      "outputs": []
    }
  ]
}